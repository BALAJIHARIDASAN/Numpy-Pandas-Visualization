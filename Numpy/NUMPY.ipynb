{
 "cells": [
  {
   "cell_type": "markdown",
   "id": "bcb0bd38",
   "metadata": {},
   "source": [
    "## 2.1 Tensors and Numpy\n",
    "<img src=\"https://firebasestorage.googleapis.com/v0/b/deep-learning-crash-course.appspot.com/o/2Numpy.png?alt=media&token=fc8f3815-66d0-47df-ab28-3d053c42e00e\" width=\"200\" height=\"200\" align=\"right\"/>"
   ]
  },
  {
   "cell_type": "markdown",
   "id": "7f47a389",
   "metadata": {},
   "source": [
    "Tensors \n",
    "Mathematically, a tensor is a generalization of vectors and matrices. Within the context of TensorFlow, a tensor is considered as a multi-dimensional array.\n",
    "\n",
    "With the use of .numpy() method, tensors can be explicilty converted to Numpy ndarrays objects into tf.Tensor objects.\n",
    "\n",
    "Similar to Numpy ndarray objects, tf.Tensor objects have a data type and a shape. Their mathematical operations are also similar to each other.\n",
    "\n",
    "Unlike Numpy arrays, tf.Tensors can be backed by accelerator memory (GPU, TPU).\n",
    "\n",
    "TensorFlow offers a rich library of operations that consume and produce tf.Tensors, such as tf.add, tf.matmul, and tf.linalg.inv. These operations automatically convert native Python types"
   ]
  },
  {
   "cell_type": "markdown",
   "id": "933b0ad0",
   "metadata": {},
   "source": [
    "<img src=\"https://firebasestorage.googleapis.com/v0/b/deep-learning-crash-course.appspot.com/o/2NumpyDimension.png?alt=media&token=07ff02d0-2499-40ff-b5de-46c03bcb01e7\" width=\"600\" align=\"center\"/>"
   ]
  },
  {
   "cell_type": "code",
   "execution_count": 2,
   "id": "35eea606",
   "metadata": {},
   "outputs": [
    {
     "name": "stdout",
     "output_type": "stream",
     "text": [
      "Tensor(\"Add_1:0\", shape=(2,), dtype=int32)\n",
      "Tensor(\"MatMul_1:0\", shape=(1, 1), dtype=int32)\n"
     ]
    }
   ],
   "source": [
    "import tensorflow as tf\n",
    "\n",
    "print(tf.add([1, 3], [5, 7]))\n",
    "\n",
    "a = tf.constant([1, 3], shape=[1, 2])\n",
    "b = tf.constant([5, 7], shape=[2, 1])\n",
    "\n",
    "print(tf.matmul(a, b))"
   ]
  },
  {
   "cell_type": "code",
   "execution_count": 3,
   "id": "64a6ab86",
   "metadata": {},
   "outputs": [
    {
     "name": "stdout",
     "output_type": "stream",
     "text": [
      "(4,)\n",
      "(2, 2)\n"
     ]
    }
   ],
   "source": [
    "import numpy as np\n",
    "\n",
    "arr_1D = np.array([1, 2, 3, 4])\n",
    "print(arr_1D.shape)\n",
    "\n",
    "arr_2D = np.array([[1, 2], [3, 4]])\n",
    "print(arr_2D.shape)"
   ]
  },
  {
   "cell_type": "markdown",
   "id": "23537746",
   "metadata": {},
   "source": [
    "<img src=\"https://firebasestorage.googleapis.com/v0/b/deep-learning-crash-course.appspot.com/o/2Numpy3Dexplain.png?alt=media&token=acf5b8be-e917-4e42-b89a-0fbd9a335cfd\" width=\"600\" align=\"center\"/>"
   ]
  },
  {
   "cell_type": "code",
   "execution_count": 4,
   "id": "63ded3d6",
   "metadata": {},
   "outputs": [
    {
     "name": "stdout",
     "output_type": "stream",
     "text": [
      "(3, 2, 2)\n"
     ]
    }
   ],
   "source": [
    "arr_3D = np.array(   [   [[1, 2], [3, 4]]  ,  [[1, 2], [3, 4]]  ,  [[1, 2], [3, 4]]   ]   )\n",
    "print(arr_3D.shape)"
   ]
  },
  {
   "cell_type": "markdown",
   "id": "724e2d31",
   "metadata": {},
   "source": [
    "##  Numpy - Properties and Attributes"
   ]
  },
  {
   "cell_type": "markdown",
   "id": "aa9e30ac",
   "metadata": {},
   "source": [
    "### <font color='Orange'> Numpy Attributes </font>\n",
    "><font size=\"3\">**<span style=\"background-color: #ECECEC; color:#0047bb\">.ndim</span>** - Number of array dimensions</font>\n",
    "<br>\n",
    "<br>\n",
    "><font size=\"3\">**<span style=\"background-color: #ECECEC; color:#0047bb\">.shape</span>** - Tuple of array dimensions</font>\n",
    "<br>\n",
    "<br>\n",
    "><font size=\"3\">**<span style=\"background-color: #ECECEC; color:#0047bb\">.size</span>** - Number of elements in the array</font>\n",
    "<br>\n",
    "<br>\n",
    "><font size=\"3\">**<span style=\"background-color: #ECECEC; color:#0047bb\">.dtype</span>** - Return the data type of an array’s elements</font>"
   ]
  },
  {
   "cell_type": "code",
   "execution_count": 5,
   "id": "b942eb92",
   "metadata": {},
   "outputs": [
    {
     "name": "stdout",
     "output_type": "stream",
     "text": [
      "The number of axis is 3\n",
      "The shape is (3, 2, 2)\n",
      "The size is 12\n",
      "The data type is int32\n"
     ]
    }
   ],
   "source": [
    "import numpy as np\n",
    "\n",
    "x = np.array(   [   [[1, 2], [3, 4]]  ,  [[1, 2], [3, 4]]  ,  [[1, 2], [3, 4]]   ]   )\n",
    "\n",
    "print(\"The number of axis is\", x.ndim)\n",
    "print(\"The shape is\", x.shape)\n",
    "print(\"The size is\", x.size)\n",
    "print(\"The data type is\", x.dtype)"
   ]
  },
  {
   "cell_type": "code",
   "execution_count": 6,
   "id": "9d03b468",
   "metadata": {},
   "outputs": [
    {
     "name": "stdout",
     "output_type": "stream",
     "text": [
      "The data type of x is int32\n",
      "The data type of y is float64\n"
     ]
    }
   ],
   "source": [
    "y = x.astype('float')\n",
    "print(\"The data type of x is\", x.dtype)\n",
    "print(\"The data type of y is\", y.dtype)"
   ]
  },
  {
   "cell_type": "markdown",
   "id": "61290038",
   "metadata": {},
   "source": [
    "<font size=\"3\">**In Numpy, there are different mechanisms for creating arrays. This part will cover three commonly used methods for ndarray creation.**</font>\n",
    "\n",
    "> <font size=\"3\">**1. Converting Python sequences to Numpy arrays**</font>\n",
    "<br>\n",
    "> <font size=\"3\">**2. Intrinsic Numpy array creation functions (e.g. arrange, ones, zeros, etc)**</font>\n",
    "<br>\n",
    "> <font size=\"3\">**3. Replicating, joining, or mutating existing arrays**</font>\n",
    "\n",
    "Reference: https://numpy.org/doc/stable/user/basics.creation.html"
   ]
  },
  {
   "cell_type": "code",
   "execution_count": 7,
   "id": "e0d2fb10",
   "metadata": {},
   "outputs": [
    {
     "data": {
      "text/plain": [
       "array([1, 2, 3, 4, 5])"
      ]
     },
     "execution_count": 7,
     "metadata": {},
     "output_type": "execute_result"
    }
   ],
   "source": [
    "np.array([1,2,3,4,5])"
   ]
  },
  {
   "cell_type": "code",
   "execution_count": 8,
   "id": "556069f8",
   "metadata": {},
   "outputs": [
    {
     "data": {
      "text/plain": [
       "array([0.12071531, 0.59468614, 0.40842723, 0.87135199, 0.95867503,\n",
       "       0.79512017, 0.95792314, 0.35869723, 0.85744112, 0.74850962])"
      ]
     },
     "execution_count": 8,
     "metadata": {},
     "output_type": "execute_result"
    }
   ],
   "source": [
    "np.random.random(10)"
   ]
  },
  {
   "cell_type": "code",
   "execution_count": 9,
   "id": "dd37efa6",
   "metadata": {},
   "outputs": [
    {
     "data": {
      "text/plain": [
       "array([0.9499484 , 0.03816978, 0.25931498, 0.36851148, 0.55250631,\n",
       "       0.52656679, 0.26171746, 0.57556141, 0.43403105, 0.56206205])"
      ]
     },
     "execution_count": 9,
     "metadata": {},
     "output_type": "execute_result"
    }
   ],
   "source": [
    "np.random.rand(10)"
   ]
  },
  {
   "cell_type": "code",
   "execution_count": 10,
   "id": "9632eb26",
   "metadata": {},
   "outputs": [
    {
     "data": {
      "text/plain": [
       "6"
      ]
     },
     "execution_count": 10,
     "metadata": {},
     "output_type": "execute_result"
    }
   ],
   "source": [
    "np.random.randint(10)"
   ]
  },
  {
   "cell_type": "code",
   "execution_count": 13,
   "id": "5967be04",
   "metadata": {},
   "outputs": [
    {
     "data": {
      "text/plain": [
       "array([ 0,  5, 10, 15, 20, 25, 30, 35, 40, 45, 50, 55, 60, 65, 70, 75, 80,\n",
       "       85, 90, 95])"
      ]
     },
     "execution_count": 13,
     "metadata": {},
     "output_type": "execute_result"
    }
   ],
   "source": [
    "np.arange(0,100,5)"
   ]
  },
  {
   "cell_type": "code",
   "execution_count": 14,
   "id": "4d811f0c",
   "metadata": {},
   "outputs": [
    {
     "data": {
      "text/plain": [
       "array([  0.,  25.,  50.,  75., 100.])"
      ]
     },
     "execution_count": 14,
     "metadata": {},
     "output_type": "execute_result"
    }
   ],
   "source": [
    "np.linspace(0,100,5)"
   ]
  },
  {
   "cell_type": "code",
   "execution_count": 15,
   "id": "18135b38",
   "metadata": {},
   "outputs": [
    {
     "data": {
      "text/plain": [
       "array([0., 0., 0., 0., 0., 0., 0., 0., 0., 0.])"
      ]
     },
     "execution_count": 15,
     "metadata": {},
     "output_type": "execute_result"
    }
   ],
   "source": [
    "np.zeros(10)"
   ]
  },
  {
   "cell_type": "code",
   "execution_count": 16,
   "id": "00deab39",
   "metadata": {},
   "outputs": [
    {
     "data": {
      "text/plain": [
       "array([1., 1., 1., 1., 1., 1., 1., 1., 1., 1.])"
      ]
     },
     "execution_count": 16,
     "metadata": {},
     "output_type": "execute_result"
    }
   ],
   "source": [
    "np.ones(10)"
   ]
  },
  {
   "cell_type": "code",
   "execution_count": 17,
   "id": "5fe04ec4",
   "metadata": {},
   "outputs": [
    {
     "data": {
      "text/plain": [
       "array([[1., 0., 0., 0., 0.],\n",
       "       [0., 1., 0., 0., 0.],\n",
       "       [0., 0., 1., 0., 0.],\n",
       "       [0., 0., 0., 1., 0.],\n",
       "       [0., 0., 0., 0., 1.]])"
      ]
     },
     "execution_count": 17,
     "metadata": {},
     "output_type": "execute_result"
    }
   ],
   "source": [
    "np.identity(5)"
   ]
  },
  {
   "cell_type": "code",
   "execution_count": 18,
   "id": "87cd9ade",
   "metadata": {},
   "outputs": [
    {
     "data": {
      "text/plain": [
       "array([[1., 0., 0., 0., 0.],\n",
       "       [0., 1., 0., 0., 0.],\n",
       "       [0., 0., 1., 0., 0.],\n",
       "       [0., 0., 0., 1., 0.],\n",
       "       [0., 0., 0., 0., 1.]])"
      ]
     },
     "execution_count": 18,
     "metadata": {},
     "output_type": "execute_result"
    }
   ],
   "source": [
    "np.eye(5)"
   ]
  },
  {
   "cell_type": "markdown",
   "id": "7bd409e2",
   "metadata": {},
   "source": [
    "<font size=\"3\">**Numpy array can be indexed using the standard Python syntax <span style=\"background-color: #ECECEC; color:#0047bb\">x[obj]</span>. There are two main types of indexing available:  basic slicing and advanced indexing.**</font>\n",
    "\n",
    "### <font color='Orange'> Basic slicing </font>\n",
    "> <font size=\"3\">**Basic slicing extends Python’s basic concept of slicing to N dimensions. It occurs when <span style=\"background-color: #ECECEC; color:#0047bb\">obj</span> is a slice object (constructed by start:stop:step notation inside of brackets), an integer, or a tuple of slice objects and integers.**</font>\n",
    "<br>\n",
    "### <font color='Orange'> Advanced Indexing </font>\n",
    "> <font size=\"3\">**Advanced indexing is triggered when the selection object, <span style=\"background-color: #ECECEC; color:#0047bb\">obj</span>, is a non-tuple sequence object, an ndarray (of data type integer or bool), or a tuple with at least one sequence object or ndarray (of data type integer or bool). There are two types of advanced indexing: integer and boolean.**</font>\n",
    "\n",
    "Reference: https://numpy.org/doc/stable/reference/arrays.indexing.html"
   ]
  },
  {
   "cell_type": "code",
   "execution_count": 20,
   "id": "89e4079a",
   "metadata": {},
   "outputs": [
    {
     "name": "stdout",
     "output_type": "stream",
     "text": [
      "Positive Slicing without Step [1 2 3 4 5 6]\n",
      "Positive Slicing with Step [1 3 5]\n"
     ]
    }
   ],
   "source": [
    "x = np.array([0, 1, 2, 3, 4, 5, 6, 7, 8, 9])\n",
    "\n",
    "print(\"Positive Slicing without Step\", x[1:7])\n",
    "print(\"Positive Slicing with Step\", x[1:7:2])"
   ]
  },
  {
   "cell_type": "code",
   "execution_count": 21,
   "id": "c0c87877",
   "metadata": {},
   "outputs": [
    {
     "name": "stdout",
     "output_type": "stream",
     "text": [
      "Negative Slicing without Step [3 4 5 6 7 8 9]\n",
      "Negative Slicing with Step [3 5 7 9]\n"
     ]
    }
   ],
   "source": [
    "print(\"Negative Slicing without Step\", x[-7:10])\n",
    "print(\"Negative Slicing with Step\", x[-7:10:2])"
   ]
  },
  {
   "cell_type": "code",
   "execution_count": 22,
   "id": "54bdc127",
   "metadata": {},
   "outputs": [
    {
     "name": "stdout",
     "output_type": "stream",
     "text": [
      "Positive Slicing by Default i [0 1 2 3 4 5 6]\n",
      "Positive Slicing by Default j [7 8 9]\n",
      "Positive Slicing by Default k [1 2 3 4 5 6]\n"
     ]
    }
   ],
   "source": [
    "print(\"Positive Slicing by Default i\", x[:7])\n",
    "print(\"Positive Slicing by Default j\", x[7:])\n",
    "print(\"Positive Slicing by Default k\", x[1:7])"
   ]
  },
  {
   "cell_type": "code",
   "execution_count": 23,
   "id": "9ace31a6",
   "metadata": {},
   "outputs": [
    {
     "name": "stdout",
     "output_type": "stream",
     "text": [
      "[[0 1 2]\n",
      " [3 4 5]\n",
      " [6 7 8]]\n",
      "0 4 6\n",
      "0 4 6\n",
      "[0 4 6]    Remarks: this returns a list\n"
     ]
    }
   ],
   "source": [
    "x = np.array([[0, 1, 2], [3, 4, 5], [6, 7, 8]])\n",
    "\n",
    "print(x)\n",
    "\n",
    "print(x[0,0], x[1,1], x[2,0])\n",
    "\n",
    "print(x[0][0], x[1][1], x[2][0])\n",
    "\n",
    "print(x[[0, 1, 2], [0, 1, 0]], \"   Remarks: this returns a list\") "
   ]
  },
  {
   "cell_type": "markdown",
   "id": "ac377851",
   "metadata": {},
   "source": [
    "<font size=\"3\">**An array has a shape given by the number of elements along each axis. The shape of an array can be changed with various commands, but the number of elements doesn't change.**</font>\n",
    "\n",
    "><font size=\"3\">**<span style=\"background-color: #ECECEC; color:#0047bb\">.reshape</span>** - Gives a new shape to an array without changing its data.</font>\n",
    "<br>\n",
    "<br>\n",
    "><font size=\"3\">**<span style=\"background-color: #ECECEC; color:#0047bb\">.transpose</span>** - Reverse or permute the axes of an array; returns the modified array.</font>\n",
    "<br>\n",
    "<br>\n",
    "><font size=\"3\">**<span style=\"background-color: #ECECEC; color:#0047bb\">.vstack</span>** - Stack arrays in sequence vertically (row-wise).</font>\n",
    "<br>\n",
    "<br>\n",
    "><font size=\"3\">**<span style=\"background-color: #ECECEC; color:#0047bb\">.hstack</span>** - Stack arrays in sequence horizontally (column-wise).</font>\n",
    "<br>\n",
    "<br>\n",
    "><font size=\"3\">**<span style=\"background-color: #ECECEC; color:#0047bb\">.vsplit</span>** - Split an array into multiple sub-arrays vertically (row-wise).</font>\n",
    "<br>\n",
    "<br>\n",
    "><font size=\"3\">**<span style=\"background-color: #ECECEC; color:#0047bb\">.hsplit</span>** - Split an array into multiple sub-arrays horizontally (column-wise).</font>\n",
    "<br>\n",
    "\n",
    "Reference: https://numpy.org/doc/stable/user/quickstart.html"
   ]
  },
  {
   "cell_type": "code",
   "execution_count": 27,
   "id": "4a3138b1",
   "metadata": {},
   "outputs": [
    {
     "data": {
      "text/plain": [
       "array([[ 0,  1,  2,  3,  4,  5,  6,  7,  8,  9],\n",
       "       [10, 11, 12, 13, 14, 15, 16, 17, 18, 19],\n",
       "       [20, 21, 22, 23, 24, 25, 26, 27, 28, 29],\n",
       "       [30, 31, 32, 33, 34, 35, 36, 37, 38, 39],\n",
       "       [40, 41, 42, 43, 44, 45, 46, 47, 48, 49],\n",
       "       [50, 51, 52, 53, 54, 55, 56, 57, 58, 59],\n",
       "       [60, 61, 62, 63, 64, 65, 66, 67, 68, 69],\n",
       "       [70, 71, 72, 73, 74, 75, 76, 77, 78, 79],\n",
       "       [80, 81, 82, 83, 84, 85, 86, 87, 88, 89],\n",
       "       [90, 91, 92, 93, 94, 95, 96, 97, 98, 99]])"
      ]
     },
     "execution_count": 27,
     "metadata": {},
     "output_type": "execute_result"
    }
   ],
   "source": [
    "# reshape\n",
    "\n",
    "np.arange(100).reshape(10,10)"
   ]
  },
  {
   "cell_type": "code",
   "execution_count": 29,
   "id": "3b4f5a40",
   "metadata": {},
   "outputs": [
    {
     "data": {
      "text/plain": [
       "array([[ 0,  1,  2,  3,  4,  5,  6,  7,  8,  9, 10, 11, 12, 13, 14, 15,\n",
       "        16, 17, 18, 19],\n",
       "       [20, 21, 22, 23, 24, 25, 26, 27, 28, 29, 30, 31, 32, 33, 34, 35,\n",
       "        36, 37, 38, 39],\n",
       "       [40, 41, 42, 43, 44, 45, 46, 47, 48, 49, 50, 51, 52, 53, 54, 55,\n",
       "        56, 57, 58, 59],\n",
       "       [60, 61, 62, 63, 64, 65, 66, 67, 68, 69, 70, 71, 72, 73, 74, 75,\n",
       "        76, 77, 78, 79],\n",
       "       [80, 81, 82, 83, 84, 85, 86, 87, 88, 89, 90, 91, 92, 93, 94, 95,\n",
       "        96, 97, 98, 99]])"
      ]
     },
     "execution_count": 29,
     "metadata": {},
     "output_type": "execute_result"
    }
   ],
   "source": [
    "np.arange(100).reshape(5,-1)"
   ]
  },
  {
   "cell_type": "code",
   "execution_count": 30,
   "id": "af509ec7",
   "metadata": {},
   "outputs": [
    {
     "data": {
      "text/plain": [
       "array([[ 0,  1,  2,  3,  4],\n",
       "       [ 5,  6,  7,  8,  9],\n",
       "       [10, 11, 12, 13, 14],\n",
       "       [15, 16, 17, 18, 19],\n",
       "       [20, 21, 22, 23, 24],\n",
       "       [25, 26, 27, 28, 29],\n",
       "       [30, 31, 32, 33, 34],\n",
       "       [35, 36, 37, 38, 39],\n",
       "       [40, 41, 42, 43, 44],\n",
       "       [45, 46, 47, 48, 49],\n",
       "       [50, 51, 52, 53, 54],\n",
       "       [55, 56, 57, 58, 59],\n",
       "       [60, 61, 62, 63, 64],\n",
       "       [65, 66, 67, 68, 69],\n",
       "       [70, 71, 72, 73, 74],\n",
       "       [75, 76, 77, 78, 79],\n",
       "       [80, 81, 82, 83, 84],\n",
       "       [85, 86, 87, 88, 89],\n",
       "       [90, 91, 92, 93, 94],\n",
       "       [95, 96, 97, 98, 99]])"
      ]
     },
     "execution_count": 30,
     "metadata": {},
     "output_type": "execute_result"
    }
   ],
   "source": [
    "np.arange(100).reshape(-1,5)"
   ]
  },
  {
   "cell_type": "code",
   "execution_count": 31,
   "id": "ed8ac824",
   "metadata": {},
   "outputs": [
    {
     "name": "stdout",
     "output_type": "stream",
     "text": [
      "The original shape of x is (4, 3)\n",
      "The original shape of y is (2, 6)\n",
      "The original shape of z is (3, 4)\n"
     ]
    }
   ],
   "source": [
    "x = np.array([[0, 1, 2], [3, 4, 5], [6, 7, 8], [9, 10, 11]])\n",
    "y = np.reshape(x, (2,6))\n",
    "z = np.reshape(x, (3,4))\n",
    "\n",
    "print(\"The original shape of x is\" , x.shape)\n",
    "print(\"The original shape of y is\" , y.shape)\n",
    "print(\"The original shape of z is\" , z.shape)"
   ]
  },
  {
   "cell_type": "code",
   "execution_count": 32,
   "id": "cc3f4382",
   "metadata": {},
   "outputs": [
    {
     "name": "stdout",
     "output_type": "stream",
     "text": [
      "The tranpose of x is: \n",
      " [[ 0  3  6  9]\n",
      " [ 1  4  7 10]\n",
      " [ 2  5  8 11]]\n",
      "The tranpose of x is: \n",
      " (3, 4)\n"
     ]
    }
   ],
   "source": [
    "print(\"The tranpose of x is: \\n\" , np.transpose(x))\n",
    "\n",
    "print(\"The tranpose of x is: \\n\" , np.transpose(x).shape)"
   ]
  },
  {
   "cell_type": "code",
   "execution_count": 33,
   "id": "e4c86b29",
   "metadata": {},
   "outputs": [
    {
     "name": "stdout",
     "output_type": "stream",
     "text": [
      "[[0 1 2]\n",
      " [3 4 5]] (2, 3)\n",
      "[[ 6  7  8]\n",
      " [ 9 10 11]] (2, 3)\n",
      "The result of horizontal stack: \n",
      " [[ 0  1  2  6  7  8]\n",
      " [ 3  4  5  9 10 11]] (2, 6)\n",
      "The result of horizontal stack: \n",
      " [[ 0  1  2]\n",
      " [ 3  4  5]\n",
      " [ 6  7  8]\n",
      " [ 9 10 11]] (4, 3)\n"
     ]
    }
   ],
   "source": [
    "x = np.array([[0, 1, 2], [3, 4, 5]])\n",
    "y = np.array([[6, 7, 8], [9, 10, 11]])\n",
    "\n",
    "print(x, x.shape)\n",
    "print(y, y.shape)\n",
    "\n",
    "print(\"The result of horizontal stack: \\n\", np.hstack((x,y)), np.hstack((x,y)).shape)\n",
    "print(\"The result of horizontal stack: \\n\", np.vstack((x,y)), np.vstack((x,y)).shape)"
   ]
  },
  {
   "cell_type": "code",
   "execution_count": 34,
   "id": "421fc169",
   "metadata": {},
   "outputs": [
    {
     "name": "stdout",
     "output_type": "stream",
     "text": [
      "The result of horizontal split: \n",
      " [array([[ 0,  1],\n",
      "       [ 4,  5],\n",
      "       [ 8,  9],\n",
      "       [12, 13]]), array([[ 2,  3],\n",
      "       [ 6,  7],\n",
      "       [10, 11],\n",
      "       [14, 15]])]\n",
      "[[ 0  1]\n",
      " [ 4  5]\n",
      " [ 8  9]\n",
      " [12 13]]\n",
      "[[ 2  3]\n",
      " [ 6  7]\n",
      " [10 11]\n",
      " [14 15]]\n"
     ]
    }
   ],
   "source": [
    "x = np.array([[0, 1, 2, 3], [4, 5, 6, 7], [8, 9, 10, 11], [12, 13, 14, 15]])\n",
    "\n",
    "print(\"The result of horizontal split: \\n\", np.hsplit(x, 2))\n",
    "print(np.hsplit(x, 2)[0])\n",
    "print(np.hsplit(x, 2)[1])"
   ]
  },
  {
   "cell_type": "code",
   "execution_count": 35,
   "id": "9b886c00",
   "metadata": {},
   "outputs": [
    {
     "name": "stdout",
     "output_type": "stream",
     "text": [
      "The result of vectical split: \n",
      " [array([[0, 1, 2, 3],\n",
      "       [4, 5, 6, 7]]), array([[ 8,  9, 10, 11],\n",
      "       [12, 13, 14, 15]])]\n",
      "[[0 1 2 3]\n",
      " [4 5 6 7]]\n",
      "[[ 8  9 10 11]\n",
      " [12 13 14 15]]\n"
     ]
    }
   ],
   "source": [
    "print(\"The result of vectical split: \\n\", np.vsplit(x, 2))\n",
    "print(np.vsplit(x, 2)[0])\n",
    "print(np.vsplit(x, 2)[1])"
   ]
  },
  {
   "cell_type": "markdown",
   "id": "3cb035d6",
   "metadata": {},
   "source": [
    "### <font color='Orange'> Element-wise </font>\n",
    "> <font size=\"3\">**Numpy operations are usually done on pairs of arrays on an element-wise basis. In the simplest case, the two arrays must have exactly the same shape.**</font>\n"
   ]
  },
  {
   "cell_type": "code",
   "execution_count": 36,
   "id": "80a0017b",
   "metadata": {},
   "outputs": [
    {
     "name": "stdout",
     "output_type": "stream",
     "text": [
      "[2 4 6]\n"
     ]
    }
   ],
   "source": [
    "import numpy as np\n",
    "\n",
    "x=np.array([1, 2, 3])\n",
    "y=np.array([2, 2, 2])\n",
    "\n",
    "print(x*y)"
   ]
  },
  {
   "cell_type": "markdown",
   "id": "d312e1ec",
   "metadata": {},
   "source": [
    "<font size=\"3\">**Numpy has fast built-in aggregation and statistical functions for working on arrays, which includes:**</font>\n",
    "\n",
    "><font size=\"3\">**<span style=\"background-color: #ECECEC; color:#0047bb\">.mean()</span>** - Compute the arithmetic mean along the specified axis.</font>\n",
    "<br>\n",
    "<br>\n",
    "><font size=\"3\">**<span style=\"background-color: #ECECEC; color:#0047bb\">.std()</span>** - Compute the standard deviation along the specified axis.</font>\n",
    "<br>\n",
    "<br>\n",
    "><font size=\"3\">**<span style=\"background-color: #ECECEC; color:#0047bb\">.var()</span>** - Compute the variance along the specified axis.</font>\n",
    "<br>\n",
    "<br>\n",
    "><font size=\"3\">**<span style=\"background-color: #ECECEC; color:#0047bb\">.sum()</span>** - Sum of array elements over a given axis.</font>\n",
    "<br>\n",
    "<br>\n",
    "><font size=\"3\">**<span style=\"background-color: #ECECEC; color:#0047bb\">.cumsum()</span>** - Return the cumulative sum of the elements along a given axis.</font>\n",
    "<br>\n",
    "<br>\n",
    "><font size=\"3\">**<span style=\"background-color: #ECECEC; color:#0047bb\">.cumprod()</span>** -  Return the cumulative product of elements along a given axis</font>\n",
    "<br>\n",
    "<br>\n",
    "><font size=\"3\">**<span style=\"background-color: #ECECEC; color:#0047bb\">.min()</span>** - Return the minimum along a given axis.</font>\n",
    "<br>\n",
    "<br>\n",
    "><font size=\"3\">**<span style=\"background-color: #ECECEC; color:#0047bb\">.max()</span>** - Return the maximum along a given axis.</font>\n",
    "<br>\n",
    "<br>\n",
    "><font size=\"3\">**<span style=\"background-color: #ECECEC; color:#0047bb\">.argmin()</span>** - Returns the indices of the minimum values along an axis.</font>\n",
    "<br>\n",
    "<br>\n",
    "><font size=\"3\">**<span style=\"background-color: #ECECEC; color:#0047bb\">.argmax()</span>** - Returns the indices of the maximum values along an axis.</font>\n",
    "<br>\n",
    "<br>\n",
    "><font size=\"3\">**<span style=\"background-color: #ECECEC; color:#0047bb\">.all()</span>** - Test whether all array elements along a given axis evaluate to True.</font>\n",
    "<br>\n",
    "<br>\n",
    "><font size=\"3\">**<span style=\"background-color: #ECECEC; color:#0047bb\">.any()</span>** - Test whether any array element along a given axis evaluates to True.</font>\n",
    "<br>\n",
    "\n",
    "Reference: https://www.pythonprogramming.in/numpy-aggregate-and-statistical-functions.html"
   ]
  },
  {
   "cell_type": "code",
   "execution_count": 38,
   "id": "3eb6f745",
   "metadata": {},
   "outputs": [
    {
     "name": "stdout",
     "output_type": "stream",
     "text": [
      "Mean: 3.5\n",
      "Vertical Mean: [2.5 3.5 4.5]\n",
      "Horizontal Mean: [2. 5.]\n"
     ]
    }
   ],
   "source": [
    "import numpy as np\n",
    "\n",
    "x = np.array([[1, 2, 3], [4, 5, 6]])\n",
    "\n",
    "print(\"Mean:\", np.mean(x))\n",
    "print(\"Vertical Mean:\", np.mean(x, axis=0))\n",
    "print(\"Horizontal Mean:\", np.mean(x, axis=1))"
   ]
  },
  {
   "cell_type": "code",
   "execution_count": 39,
   "id": "2d3b5198",
   "metadata": {},
   "outputs": [
    {
     "name": "stdout",
     "output_type": "stream",
     "text": [
      "Standard Deviation: 1.707825127659933\n",
      "Vertical Standard Deviation: [1.5 1.5 1.5]\n",
      "Horizontal Standard Deviation: [0.81649658 0.81649658]\n"
     ]
    }
   ],
   "source": [
    "print(\"Standard Deviation:\", np.std(x))\n",
    "print(\"Vertical Standard Deviation:\", np.std(x, axis=0))\n",
    "print(\"Horizontal Standard Deviation:\", np.std(x, axis=1))"
   ]
  },
  {
   "cell_type": "code",
   "execution_count": 40,
   "id": "989a13cb",
   "metadata": {},
   "outputs": [
    {
     "name": "stdout",
     "output_type": "stream",
     "text": [
      "Variance: 2.9166666666666665\n",
      "Vertical Variance: [2.25 2.25 2.25]\n",
      "Horizontal Variance: [0.66666667 0.66666667]\n"
     ]
    }
   ],
   "source": [
    "print(\"Variance:\", np.var(x))\n",
    "print(\"Vertical Variance:\", np.var(x, axis=0))\n",
    "print(\"Horizontal Variance:\", np.var(x, axis=1))"
   ]
  },
  {
   "cell_type": "code",
   "execution_count": 41,
   "id": "a39aee1e",
   "metadata": {},
   "outputs": [
    {
     "name": "stdout",
     "output_type": "stream",
     "text": [
      "Sum: 21\n",
      "Vertical Sum: [5 7 9]\n",
      "Horizontal Sum: [ 6 15]\n"
     ]
    }
   ],
   "source": [
    "print(\"Sum:\", np.sum(x))\n",
    "print(\"Vertical Sum:\", np.sum(x, axis=0))\n",
    "print(\"Horizontal Sum:\", np.sum(x, axis=1))\n"
   ]
  },
  {
   "cell_type": "code",
   "execution_count": 42,
   "id": "60cb8da2",
   "metadata": {},
   "outputs": [
    {
     "name": "stdout",
     "output_type": "stream",
     "text": [
      "Product: 720\n",
      "Vertical Product: [ 4 10 18]\n",
      "Horizontal Product: [  6 120]\n"
     ]
    }
   ],
   "source": [
    "print(\"Product:\", np.prod(x))\n",
    "print(\"Vertical Product:\", np.prod(x, axis=0))\n",
    "print(\"Horizontal Product:\", np.prod(x, axis=1))"
   ]
  },
  {
   "cell_type": "code",
   "execution_count": 43,
   "id": "eb3b068e",
   "metadata": {},
   "outputs": [
    {
     "name": "stdout",
     "output_type": "stream",
     "text": [
      "[[1 2 3]\n",
      " [4 5 6]]\n",
      "Cumulative Sum: [ 1  3  6 10 15 21]\n",
      "Vertical Cumulative Sum: [[1 2 3]\n",
      " [5 7 9]]\n",
      "Horizontal Cumulative Sum: [[ 1  3  6]\n",
      " [ 4  9 15]]\n"
     ]
    }
   ],
   "source": [
    "print(x)\n",
    "\n",
    "print(\"Cumulative Sum:\", np.cumsum(x))\n",
    "print(\"Vertical Cumulative Sum:\", np.cumsum(x, axis=0))\n",
    "print(\"Horizontal Cumulative Sum:\", np.cumsum(x, axis=1))"
   ]
  },
  {
   "cell_type": "code",
   "execution_count": 44,
   "id": "703b4f60",
   "metadata": {},
   "outputs": [
    {
     "name": "stdout",
     "output_type": "stream",
     "text": [
      "Cumulative Product: [  1   2   6  24 120 720]\n",
      "Vertical Cumulative Product: [[ 1  2  3]\n",
      " [ 4 10 18]]\n",
      "Horizontal Cumulative Product: [[  1   2   6]\n",
      " [  4  20 120]]\n"
     ]
    }
   ],
   "source": [
    "print(\"Cumulative Product:\", np.cumprod(x))\n",
    "print(\"Vertical Cumulative Product:\", np.cumprod(x, axis=0))\n",
    "print(\"Horizontal Cumulative Product:\", np.cumprod(x, axis=1))"
   ]
  },
  {
   "cell_type": "code",
   "execution_count": 45,
   "id": "860d2903",
   "metadata": {},
   "outputs": [
    {
     "name": "stdout",
     "output_type": "stream",
     "text": [
      "Minimum: 1\n",
      "Vertical Minimum: [1 2 3]\n",
      "Horizontal Minimum: [1 4]\n"
     ]
    }
   ],
   "source": [
    "print(\"Minimum:\", np.min(x))\n",
    "print(\"Vertical Minimum:\", np.min(x, axis=0))\n",
    "print(\"Horizontal Minimum:\", np.min(x, axis=1))"
   ]
  },
  {
   "cell_type": "code",
   "execution_count": 46,
   "id": "f960c6a9",
   "metadata": {},
   "outputs": [
    {
     "name": "stdout",
     "output_type": "stream",
     "text": [
      "Maximum: 6\n",
      "Vertical Maximum: [4 5 6]\n",
      "Horizontal Maximum: [3 6]\n"
     ]
    }
   ],
   "source": [
    "print(\"Maximum:\", np.max(x))\n",
    "print(\"Vertical Maximum:\", np.max(x, axis=0))\n",
    "print(\"Horizontal Maximum:\", np.max(x, axis=1))"
   ]
  },
  {
   "cell_type": "code",
   "execution_count": 47,
   "id": "a2c2acdd",
   "metadata": {},
   "outputs": [
    {
     "name": "stdout",
     "output_type": "stream",
     "text": [
      "Indices of minimum: 0\n",
      "Indices of vertical minimum: [0 0 0]\n",
      "Indices of horizontal minimum: [0 0]\n"
     ]
    }
   ],
   "source": [
    "print(\"Indices of minimum:\" , np.argmin(x))\n",
    "print(\"Indices of vertical minimum:\" , np.argmin(x, axis=0))\n",
    "print(\"Indices of horizontal minimum:\" , np.argmin(x, axis=1))"
   ]
  },
  {
   "cell_type": "code",
   "execution_count": 48,
   "id": "12032ed7",
   "metadata": {},
   "outputs": [
    {
     "name": "stdout",
     "output_type": "stream",
     "text": [
      "Indices of maximum: 5\n",
      "Indices of vertical maximum: [1 1 1]\n",
      "Indices of horizontal maximum: [2 2]\n"
     ]
    }
   ],
   "source": [
    "print(\"Indices of maximum:\" , np.argmax(x))\n",
    "print(\"Indices of vertical maximum:\" , np.argmax(x, axis=0))\n",
    "print(\"Indices of horizontal maximum:\" , np.argmax(x, axis=1))"
   ]
  },
  {
   "cell_type": "code",
   "execution_count": null,
   "id": "6121e8f3",
   "metadata": {},
   "outputs": [],
   "source": []
  }
 ],
 "metadata": {
  "kernelspec": {
   "display_name": "Python 3 (ipykernel)",
   "language": "python",
   "name": "python3"
  },
  "language_info": {
   "codemirror_mode": {
    "name": "ipython",
    "version": 3
   },
   "file_extension": ".py",
   "mimetype": "text/x-python",
   "name": "python",
   "nbconvert_exporter": "python",
   "pygments_lexer": "ipython3",
   "version": "3.7.6"
  }
 },
 "nbformat": 4,
 "nbformat_minor": 5
}
